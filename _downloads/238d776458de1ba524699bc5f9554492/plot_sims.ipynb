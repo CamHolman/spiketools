{
  "cells": [
    {
      "cell_type": "code",
      "execution_count": null,
      "metadata": {
        "collapsed": false
      },
      "outputs": [],
      "source": [
        "%matplotlib inline"
      ]
    },
    {
      "cell_type": "markdown",
      "metadata": {},
      "source": [
        "\n# Simulations\n\nSimulate spiking activity.\n\nThis tutorial primarily covers the ``spiketools.sims`` module.\n"
      ]
    },
    {
      "cell_type": "markdown",
      "metadata": {},
      "source": [
        "## Simulation spiking data\n\n### Sections\n\nThis tutorial contains the following sections:\n\n1. Simulate spikes based on spiking probabilities\n2. Simulate spikes based on different probability distributions\n3. Utilities for working with simulated spiking data\n\n\n"
      ]
    },
    {
      "cell_type": "code",
      "execution_count": null,
      "metadata": {
        "collapsed": false
      },
      "outputs": [],
      "source": [
        "# import auxiliary libraries\nimport numpy as np\n\n# Import simulation-related functions\nfrom spiketools.sim.dist import sim_spiketrain_binom, sim_spiketrain_poisson\nfrom spiketools.sim.prob import sim_spiketrain_prob\nfrom spiketools.sim.utils import refractory\n\n# Import plot functions\nfrom spiketools.plts.trials import plot_rasters\nfrom spiketools.plts.data import plot_hist\n\n# Import utitilies\nfrom spiketools.measures.conversions import convert_train_to_times"
      ]
    },
    {
      "cell_type": "markdown",
      "metadata": {},
      "source": [
        "### 1. Simulate spikes based on spiking probabilities\n\n\n"
      ]
    },
    {
      "cell_type": "code",
      "execution_count": null,
      "metadata": {
        "collapsed": false
      },
      "outputs": [],
      "source": [
        "# simulate spike train of size n_samples based on a probability of spiking per sample\np_spiking = 0.7\nn_samples = 100\nsim_spiketrain = sim_spiketrain_prob(p_spiking, n_samples)\n\n# convert binary spike train to spike times in milliseconds\nspike_times = convert_train_to_times(sim_spiketrain)\n\n# print the first 10 spikes from spike train and spike times\nprint('Spike train data:', sim_spiketrain[:10])\nprint('Spike times data:', spike_times[:10])\n\n# plot the spike times\nplot_rasters(spike_times)"
      ]
    },
    {
      "cell_type": "code",
      "execution_count": null,
      "metadata": {
        "collapsed": false
      },
      "outputs": [],
      "source": [
        "# simulate spike train of size 1000, based on a probability of spiking per sample.\np_spiking = np.random.random(1000)\nsim_spiketrain = sim_spiketrain_prob(p_spiking)"
      ]
    },
    {
      "cell_type": "code",
      "execution_count": null,
      "metadata": {
        "collapsed": false
      },
      "outputs": [],
      "source": [
        "# convert binary spike train to spike times in milliseconds\nspike_times = convert_train_to_times(sim_spiketrain)\n\n# plot the probability distribution of spike times\nplot_hist(spike_times, density=1, bins=50,\n          xlabel='Spike Times (ms)', ylabel='Probability',\n          title='Probability Distribution of Spike Times')"
      ]
    },
    {
      "cell_type": "markdown",
      "metadata": {},
      "source": [
        "### 2. Simulate spikes based on different probability distributions\n\nSimulate spike train from binomial and Poisson probability distributions.\n\n\n"
      ]
    },
    {
      "cell_type": "code",
      "execution_count": null,
      "metadata": {
        "collapsed": false
      },
      "outputs": [],
      "source": [
        "# simulate spike train from binomial probability distribution\np_spiking = 0.7\nspikes = sim_spiketrain_binom(p_spiking, n_samples=100)\n\n# convert binary spike train to spike times in milliseconds & plot the spike times\nspike_binomial = convert_train_to_times(spikes)\nplot_rasters(spike_binomial)"
      ]
    },
    {
      "cell_type": "code",
      "execution_count": null,
      "metadata": {
        "collapsed": false
      },
      "outputs": [],
      "source": [
        "# simulate spike train from a Poisson probability distribution\nspikes = sim_spiketrain_poisson(0.16, 100000, 1000, bias=0)\n\n# convert the simulated binary spike train to spike times in milliseconds & plot the spike times\nspike_poisson = convert_train_to_times(spikes)\nplot_rasters(spike_poisson)"
      ]
    },
    {
      "cell_type": "markdown",
      "metadata": {},
      "source": [
        "### 3. Utilities for working with simulated spiking data\n\nApply a refractory period to a simulated spike train.\n\n\n"
      ]
    },
    {
      "cell_type": "code",
      "execution_count": null,
      "metadata": {
        "collapsed": false
      },
      "outputs": [],
      "source": [
        "# apply a 0.003 seconds refractory period to the simulated spike train with 1000 Hz sampling rate\nspike_ref = refractory(spike_binomial, 0.003, 1000)\n\n# convert binary spike train to spike times in milliseconds & plot the spike times\nspike_times = convert_train_to_times(spike_ref)\nplot_rasters(spike_times)"
      ]
    }
  ],
  "metadata": {
    "kernelspec": {
      "display_name": "Python 3",
      "language": "python",
      "name": "python3"
    },
    "language_info": {
      "codemirror_mode": {
        "name": "ipython",
        "version": 3
      },
      "file_extension": ".py",
      "mimetype": "text/x-python",
      "name": "python",
      "nbconvert_exporter": "python",
      "pygments_lexer": "ipython3",
      "version": "3.8.11"
    }
  },
  "nbformat": 4,
  "nbformat_minor": 0
}